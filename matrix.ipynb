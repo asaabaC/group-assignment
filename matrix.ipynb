{
 "cells": [
  {
   "cell_type": "markdown",
   "metadata": {},
   "source": [
    "QUESTION\n",
    "\n",
    "#MATRIX, DETERMINANT AND VECTOR TRANSFORMATION MANIPULATION WITH NUMPY.\n",
    "\n",
    "GROUP 2:\n",
    "\n",
    "MEMBERS:                                REG.NO\n",
    "\n",
    "ALOYO BRENDA                            2023/DCSE/009/SS\n",
    "AMESO IMMACULATE                        2023/DCSE/0010/SS\n",
    "NANZIRI RITAH NAMAYANJA                 2023/DCSE/0082/SS\n",
    "NALUBEGA JOAN                           2023/DCSE/0102/SS\n",
    "NAKANJAKO JOSEPHINE                     2023/DCSE/0060/SS\n",
    "TIBAWALA SHARON                         #DIDNT DO THE WORK, DIDNT COMMUNICATE.\n",
    "NAMAKULA ALLEN                          2023/DCSE/0069/SS\n"
   ]
  },
  {
   "cell_type": "code",
   "execution_count": 10,
   "metadata": {},
   "outputs": [
    {
     "name": "stdout",
     "output_type": "stream",
     "text": [
      "[[ 6  8]\n",
      " [10 12]]\n"
     ]
    }
   ],
   "source": [
    "#MATRIX ADDITION\n",
    "import numpy as np\n",
    "\n",
    "matrix1 = np.array([[1, 2], [3, 4]])\n",
    "matrix2 = np.array([[5, 6], [7, 8]])\n",
    "result = np.add(matrix1, matrix2)\n",
    "print(result)"
   ]
  },
  {
   "cell_type": "code",
   "execution_count": 11,
   "metadata": {},
   "outputs": [
    {
     "name": "stdout",
     "output_type": "stream",
     "text": [
      "[[ 6  8]\n",
      " [10 12]]\n"
     ]
    }
   ],
   "source": [
    "import numpy as np\n",
    "\n",
    "matrix1 = np.array([[1, 2], [3, 4]])\n",
    "matrix2 = np.array([[5, 6], [7, 8]])\n",
    "result = matrix1 + matrix2\n",
    "print(result)"
   ]
  },
  {
   "cell_type": "code",
   "execution_count": 12,
   "metadata": {},
   "outputs": [
    {
     "name": "stdout",
     "output_type": "stream",
     "text": [
      "[[ 6  8]\n",
      " [10 12]]\n"
     ]
    }
   ],
   "source": [
    "import numpy as np\n",
    "\n",
    "matrix1 = np.array([[1, 2], [3, 4]])\n",
    "matrix2 = np.array([[5, 6], [7, 8]])\n",
    "result = np.add(matrix1, matrix2, out=np.empty_like(matrix1))\n",
    "print(result)"
   ]
  },
  {
   "cell_type": "code",
   "execution_count": 24,
   "metadata": {},
   "outputs": [
    {
     "name": "stdout",
     "output_type": "stream",
     "text": [
      "[[ 6  8]\n",
      " [10 12]]\n"
     ]
    }
   ],
   "source": [
    "import numpy as np\n",
    "\n",
    "matrix1 = np.array([[1, 2], [3, 4]])\n",
    "matrix2 = np.array([[5, 6], [7, 8]])\n",
    "result = np.zeros_like(matrix1)\n",
    "np.add(matrix1, matrix2, out=result)\n",
    "print(result)"
   ]
  },
  {
   "cell_type": "markdown",
   "metadata": {},
   "source": [
    "MATRIX MULTLPICATION"
   ]
  },
  {
   "cell_type": "code",
   "execution_count": 9,
   "metadata": {},
   "outputs": [
    {
     "ename": "ModuleNotFoundError",
     "evalue": "No module named 'numpy'",
     "output_type": "error",
     "traceback": [
      "\u001b[1;31m---------------------------------------------------------------------------\u001b[0m",
      "\u001b[1;31mModuleNotFoundError\u001b[0m                       Traceback (most recent call last)",
      "\u001b[1;32md:\\COMPUTER SCIENCE\\YEAR ONE\\SEM 1\\MATHEMATICAL COMPUTING\\matrix.ipynb Cell 7\u001b[0m line \u001b[0;36m1\n\u001b[1;32m----> <a href='vscode-notebook-cell:/d%3A/COMPUTER%20SCIENCE/YEAR%20ONE/SEM%201/MATHEMATICAL%20COMPUTING/matrix.ipynb#X36sZmlsZQ%3D%3D?line=0'>1</a>\u001b[0m \u001b[39mimport\u001b[39;00m \u001b[39mnumpy\u001b[39;00m \u001b[39mas\u001b[39;00m \u001b[39mnp\u001b[39;00m\n",
      "\u001b[1;31mModuleNotFoundError\u001b[0m: No module named 'numpy'"
     ]
    }
   ],
   "source": [
    "import numpy as np"
   ]
  },
  {
   "cell_type": "code",
   "execution_count": 5,
   "metadata": {},
   "outputs": [
    {
     "ename": "ModuleNotFoundError",
     "evalue": "No module named 'numpy'",
     "output_type": "error",
     "traceback": [
      "\u001b[1;31m---------------------------------------------------------------------------\u001b[0m",
      "\u001b[1;31mModuleNotFoundError\u001b[0m                       Traceback (most recent call last)",
      "\u001b[1;32md:\\COMPUTER SCIENCE\\YEAR ONE\\SEM 1\\MATHEMATICAL COMPUTING\\matrix.ipynb Cell 7\u001b[0m line \u001b[0;36m1\n\u001b[1;32m----> <a href='vscode-notebook-cell:/d%3A/COMPUTER%20SCIENCE/YEAR%20ONE/SEM%201/MATHEMATICAL%20COMPUTING/matrix.ipynb#W6sZmlsZQ%3D%3D?line=0'>1</a>\u001b[0m \u001b[39mimport\u001b[39;00m \u001b[39mnumpy\u001b[39;00m \u001b[39mas\u001b[39;00m \u001b[39mnp\u001b[39;00m\n\u001b[0;32m      <a href='vscode-notebook-cell:/d%3A/COMPUTER%20SCIENCE/YEAR%20ONE/SEM%201/MATHEMATICAL%20COMPUTING/matrix.ipynb#W6sZmlsZQ%3D%3D?line=2'>3</a>\u001b[0m \u001b[39m# Define matrices\u001b[39;00m\n\u001b[0;32m      <a href='vscode-notebook-cell:/d%3A/COMPUTER%20SCIENCE/YEAR%20ONE/SEM%201/MATHEMATICAL%20COMPUTING/matrix.ipynb#W6sZmlsZQ%3D%3D?line=3'>4</a>\u001b[0m matrix1 \u001b[39m=\u001b[39m np\u001b[39m.\u001b[39marray([[\u001b[39m1\u001b[39m, \u001b[39m2\u001b[39m], [\u001b[39m3\u001b[39m, \u001b[39m4\u001b[39m]])\n",
      "\u001b[1;31mModuleNotFoundError\u001b[0m: No module named 'numpy'"
     ]
    }
   ],
   "source": [
    "import numpy as np\n",
    "\n",
    "# Define matrices\n",
    "matrix1 = np.array([[1, 2], [3, 4]])\n",
    "matrix2 = np.array([[5, 6], [7, 8]])\n",
    "\n",
    "# Perform matrix multiplication\n",
    "result = np.dot(matrix1, matrix2)\n",
    "\n",
    "# Print the result\n",
    "print(result)"
   ]
  },
  {
   "cell_type": "code",
   "execution_count": 13,
   "metadata": {},
   "outputs": [
    {
     "name": "stdout",
     "output_type": "stream",
     "text": [
      "[[ 30  24  18]\n",
      " [ 84  69  54]\n",
      " [138 114  90]]\n"
     ]
    }
   ],
   "source": [
    "import numpy as np\n",
    "\n",
    "# Define matrices\n",
    "matrix1 = np.array([[1, 2, 3], [4, 5, 6], [7, 8, 9]])\n",
    "matrix2 = np.array([[9, 8, 7], [6, 5, 4], [3, 2, 1]])\n",
    "\n",
    "# Perform matrix multiplication\n",
    "result = np.dot(matrix1, matrix2)\n",
    "\n",
    "# Print the result\n",
    "print(result)"
   ]
  },
  {
   "cell_type": "code",
   "execution_count": null,
   "metadata": {},
   "outputs": [],
   "source": [
    "#multiply : element wise matrix multiplication\n",
    "#matmul   : matrix product of two arrays\n",
    "#dot      : dot products of two arrays\n",
    "import numpy as np\n",
    "\n",
    "arr1 = np.array([[1, 2],\n",
    "                 [3, 4]])\n",
    "\n",
    "arr2 = np.array([[5, 6],\n",
    "                 [7, 8]])\n",
    "\n",
    "arr_result = np.multiply(arr1, arr2)\n",
    "print(arr_result)"
   ]
  },
  {
   "cell_type": "code",
   "execution_count": 29,
   "metadata": {},
   "outputs": [
    {
     "name": "stdout",
     "output_type": "stream",
     "text": [
      "Matrix Product of arr1 and arr2 is:\n",
      "[[19 22]\n",
      " [43 50]]\n"
     ]
    }
   ],
   "source": [
    "import numpy as np\n",
    "arr1 = np.array([[1, 2],\n",
    "                 [3, 4]])\n",
    "\n",
    "arr2 = np.array([[5, 6],\n",
    "                 [7, 8]])\n",
    "\n",
    "arr_result = np.matmul(arr1, arr2)\n",
    "\n",
    "print(f'Matrix Product of arr1 and arr2 is:\\n{arr_result}')\n",
    "\n"
   ]
  },
  {
   "cell_type": "markdown",
   "metadata": {},
   "source": [
    "MATRIX DIVISION"
   ]
  },
  {
   "cell_type": "code",
   "execution_count": 14,
   "metadata": {},
   "outputs": [
    {
     "name": "stdout",
     "output_type": "stream",
     "text": [
      "[[2. 2.]\n",
      " [2. 2.]]\n"
     ]
    }
   ],
   "source": [
    "import numpy as np\n",
    "\n",
    "# Creating the matrices\n",
    "a = np.array([[4, 6], [8, 10]])\n",
    "b = np.array([[2, 3], [4, 5]])\n",
    "\n",
    "# Dividing matrices\n",
    "result = np.divide(a, b)\n",
    "\n",
    "print(result)"
   ]
  },
  {
   "cell_type": "code",
   "execution_count": 15,
   "metadata": {},
   "outputs": [
    {
     "name": "stdout",
     "output_type": "stream",
     "text": [
      "[[2.         2.        ]\n",
      " [4.         3.33333333]]\n"
     ]
    }
   ],
   "source": [
    "import numpy as np\n",
    "\n",
    "# Creating the matrices\n",
    "a = np.array([[4, 6], [8, 10]])\n",
    "b = np.array([[2, 3]])\n",
    "\n",
    "# Dividing matrices\n",
    "result = np.divide(a, b)\n",
    "\n",
    "print(result)"
   ]
  },
  {
   "cell_type": "code",
   "execution_count": 16,
   "metadata": {},
   "outputs": [
    {
     "name": "stdout",
     "output_type": "stream",
     "text": [
      "[[2.  3. ]\n",
      " [2.  2.5]]\n"
     ]
    }
   ],
   "source": [
    "import numpy as np\n",
    "\n",
    "# Creating the matrices\n",
    "a = np.array([[4, 6], [8, 10]])\n",
    "b = np.array([[2], [4]])\n",
    "\n",
    "# Dividing matrices\n",
    "result = np.divide(a, b)\n",
    "\n",
    "print(result)"
   ]
  },
  {
   "cell_type": "markdown",
   "metadata": {},
   "source": [
    "SUBTRACTION"
   ]
  },
  {
   "cell_type": "code",
   "execution_count": 26,
   "metadata": {},
   "outputs": [
    {
     "name": "stdout",
     "output_type": "stream",
     "text": [
      "Result of Element-wise Subtraction:\n",
      "[[-6 -6 -6]\n",
      " [-6 -6 -6]]\n"
     ]
    }
   ],
   "source": [
    "import numpy as np\n",
    "\n",
    "# Define two matrices\n",
    "matrix1 = np.array([[1, 2, 3],\n",
    "                   [4, 5, 6]])\n",
    "\n",
    "matrix2 = np.array([[7, 8, 9],\n",
    "                   [10, 11, 12]])\n",
    "\n",
    "# Perform element-wise subtraction\n",
    "result_matrix = matrix1 - matrix2\n",
    "print(\"Result of Element-wise Subtraction:\")\n",
    "print(result_matrix)"
   ]
  },
  {
   "cell_type": "code",
   "execution_count": 27,
   "metadata": {},
   "outputs": [
    {
     "name": "stdout",
     "output_type": "stream",
     "text": [
      "Result of Matrix Subtraction using np.subtract():\n",
      "[[-4 -4]\n",
      " [-4 -4]]\n"
     ]
    }
   ],
   "source": [
    "import numpy as np\n",
    "\n",
    "# Define two matrices\n",
    "matrix1 = np.array([[1, 2],\n",
    "                   [3, 4]])\n",
    "\n",
    "matrix2 = np.array([[5, 6],\n",
    "                   [7, 8]])\n",
    "\n",
    "# Perform matrix subtraction using np.subtract()\n",
    "result_matrix = np.subtract(matrix1, matrix2)\n",
    "print(\"Result of Matrix Subtraction using np.subtract():\")\n",
    "print(result_matrix)"
   ]
  },
  {
   "cell_type": "markdown",
   "metadata": {},
   "source": [
    "SCALAR MULTIPLICATION"
   ]
  },
  {
   "cell_type": "code",
   "execution_count": 17,
   "metadata": {},
   "outputs": [
    {
     "name": "stdout",
     "output_type": "stream",
     "text": [
      "[5, 10, 15]\n",
      "[20, 25, 30]\n",
      "[35, 40, 45]\n"
     ]
    }
   ],
   "source": [
    "# Define the scalar and the matrix\n",
    "scalar = 5\n",
    "matrix = [[1, 2, 3], [4, 5, 6], [7, 8, 9]]\n",
    "\n",
    "# Perform scalar multiplication\n",
    "result = [[scalar * element for element in row] for row in matrix]\n",
    "\n",
    "# Print the result\n",
    "for row in result:\n",
    "    print(row)"
   ]
  },
  {
   "cell_type": "code",
   "execution_count": 18,
   "metadata": {},
   "outputs": [
    {
     "name": "stdout",
     "output_type": "stream",
     "text": [
      "[3, 6, 9]\n",
      "[12, 15, 18]\n",
      "[21, 24, 27]\n"
     ]
    }
   ],
   "source": [
    "# Define the scalar and the matrix\n",
    "scalar = 3\n",
    "matrix = [[1, 2, 3], [4, 5, 6], [7, 8, 9]]\n",
    "\n",
    "# Perform scalar multiplication\n",
    "result = []\n",
    "for row in matrix:\n",
    "    new_row = []\n",
    "    for element in row:\n",
    "        new_row.append(scalar * element)\n",
    "    result.append(new_row)\n",
    "\n",
    "# Print the result\n",
    "for row in result:\n",
    "    print(row)"
   ]
  },
  {
   "cell_type": "markdown",
   "metadata": {},
   "source": [
    "MATRIX DETERMONANT"
   ]
  },
  {
   "cell_type": "code",
   "execution_count": 19,
   "metadata": {},
   "outputs": [
    {
     "name": "stdout",
     "output_type": "stream",
     "text": [
      "Determinant: -2.0000000000000004\n"
     ]
    }
   ],
   "source": [
    "import numpy as np\n",
    "\n",
    "# Define the matrix\n",
    "matrix = np.array([[1, 2], [3, 4]])\n",
    "\n",
    "# Calculate the determinant\n",
    "determinant = np.linalg.det(matrix)\n",
    "\n",
    "# Print the result\n",
    "print(\"Determinant:\", determinant)"
   ]
  },
  {
   "cell_type": "code",
   "execution_count": 20,
   "metadata": {},
   "outputs": [
    {
     "name": "stdout",
     "output_type": "stream",
     "text": [
      "Determinant: -13.999999999999996\n"
     ]
    }
   ],
   "source": [
    "import numpy as np\n",
    "\n",
    "# Define the matrix\n",
    "matrix = np.array([[5, 2, 1], [1, -2, 0], [3, 4, 2]])\n",
    "\n",
    "# Calculate the determinant\n",
    "determinant = np.linalg.det(matrix)\n",
    "\n",
    "# Print the result\n",
    "print(\"Determinant:\", determinant)"
   ]
  },
  {
   "cell_type": "markdown",
   "metadata": {},
   "source": [
    "VECTOR TRANSFORMATION"
   ]
  },
  {
   "cell_type": "code",
   "execution_count": 21,
   "metadata": {},
   "outputs": [
    {
     "name": "stdout",
     "output_type": "stream",
     "text": [
      "[6 8]\n"
     ]
    }
   ],
   "source": [
    "import numpy as np\n",
    "\n",
    "# Define a 2D vector\n",
    "vector = np.array([3, 4])\n",
    "\n",
    "# Define a transformation matrix\n",
    "matrix = np.array([[2, 0],\n",
    "                   [0, 2]])\n",
    "\n",
    "# Perform vector transformation\n",
    "transformed_vector = np.dot(vector, matrix)\n",
    "\n",
    "# Print the transformed vector\n",
    "print(transformed_vector)"
   ]
  },
  {
   "cell_type": "code",
   "execution_count": 23,
   "metadata": {},
   "outputs": [
    {
     "name": "stdout",
     "output_type": "stream",
     "text": [
      "[-2  1]\n"
     ]
    }
   ],
   "source": [
    "import numpy as np\n",
    "\n",
    "# Define a 2D vector\n",
    "vector = np.array([1, 2])\n",
    "\n",
    "# Define a transformation matrix\n",
    "matrix = np.array([[0, -1],\n",
    "                   [1, 0]])\n",
    "\n",
    "# Perform vector transformation\n",
    "transformed_vector = np.dot(matrix, vector)\n",
    "\n",
    "# Print the transformed vector\n",
    "print(transformed_vector)"
   ]
  },
  {
   "cell_type": "markdown",
   "metadata": {},
   "source": [
    "REFERENCES\n",
    "1.#https://www.digitalocean.com/community/tutorials/numpy-matrix-multiplication\n",
    "2.#https://www.shecodes.io/athena#question-173226"
   ]
  }
 ],
 "metadata": {
  "kernelspec": {
   "display_name": "Python 3",
   "language": "python",
   "name": "python3"
  },
  "language_info": {
   "codemirror_mode": {
    "name": "ipython",
    "version": 3
   },
   "file_extension": ".py",
   "mimetype": "text/x-python",
   "name": "python",
   "nbconvert_exporter": "python",
   "pygments_lexer": "ipython3",
   "version": "3.12.0"
  }
 },
 "nbformat": 4,
 "nbformat_minor": 2
}
