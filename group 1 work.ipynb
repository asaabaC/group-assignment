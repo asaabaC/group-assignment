{
 "cells": [
  {
   "cell_type": "code",
   "execution_count": 1,
   "metadata": {},
   "outputs": [
    {
     "name": "stdout",
     "output_type": "stream",
     "text": [
      "[11 12 13 14 15]\n"
     ]
    }
   ],
   "source": [
    "#EXAMPLE 1\n",
    "import numpy as np\n",
    "\n",
    "# Create a NumPy array (vector)\n",
    "vector = np.array([1, 2, 3, 4, 5])\n",
    "\n",
    "# Adding a scalar to the vector\n",
    "scalar = 10\n",
    "result = vector + scalar\n",
    "\n",
    "print(result)\n"
   ]
  },
  {
   "cell_type": "code",
   "execution_count": 11,
   "metadata": {},
   "outputs": [
    {
     "name": "stdout",
     "output_type": "stream",
     "text": [
      "[12 17 22 27 32]\n"
     ]
    }
   ],
   "source": [
    "#EXAMPLE 2\n",
    "import numpy as np\n",
    "\n",
    "# Create a NumPy array (vector)\n",
    "vector = np.array([5, 10, 15, 20, 25])\n",
    "\n",
    "# Add a scalar to the vector\n",
    "scalar = 7\n",
    "result = vector + scalar\n",
    "\n",
    "#print(\"Original Vector:\")\n",
    "#print(vector)\n",
    "\n",
    "print(result)  #print(\"\\nResult after adding the scalar:\")\n"
   ]
  },
  {
   "cell_type": "code",
   "execution_count": 10,
   "metadata": {},
   "outputs": [
    {
     "name": "stdout",
     "output_type": "stream",
     "text": [
      "[ 2 10 20 25 30]\n",
      "\n",
      "Result after adding the scalar:\n",
      "[10 18 28 33 38]\n"
     ]
    }
   ],
   "source": [
    "#EXAMPLE 3\n",
    "import numpy as np\n",
    "#creating a numpy array \n",
    "vector = np.array([2,10,20,25,30])\n",
    "\n",
    "# we then add a scalar to a vector\n",
    "scalar = 8\n",
    "result = vector + scalar\n",
    "\n",
    "print (vector)\n",
    "#print(\"original vector:\")\n",
    "\n",
    "print(result)\n"
   ]
  },
  {
   "cell_type": "markdown",
   "metadata": {},
   "source": [
    "REFERENCES\n",
    "https://www.w3resource.com/python-exercises/python-functions-exercise-2.php"
   ]
  }
 ],
 "metadata": {
  "kernelspec": {
   "display_name": "Python 3",
   "language": "python",
   "name": "python3"
  },
  "language_info": {
   "codemirror_mode": {
    "name": "ipython",
    "version": 3
   },
   "file_extension": ".py",
   "mimetype": "text/x-python",
   "name": "python",
   "nbconvert_exporter": "python",
   "pygments_lexer": "ipython3",
   "version": "3.11.5"
  }
 },
 "nbformat": 4,
 "nbformat_minor": 2
}
