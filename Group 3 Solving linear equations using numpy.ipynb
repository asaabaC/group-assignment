{
 "cells": [
  {
   "cell_type": "markdown",
   "metadata": {},
   "source": [
    "# Solving systems of linear equations with numpy"
   ]
  },
  {
   "cell_type": "markdown",
   "metadata": {},
   "source": [
    "        #                        GROUP 3\n",
    "        1) NAGAWA ESTHER. REG NO:2023/DCSE/0049/SS \n",
    "        2) NANSALIRE ANITAH. REG NO :2023/DCSE/079/SS \n",
    "        3)AKAPO REGINAH EBAJU. REG NO:2023/DCSE/006/SS \n",
    "        4)AMUTUHAIRE FAITH AHABWE. REG NO:2023/0011/SS \n",
    "        5)LWAMULUNGI SHEILAH .REG NO:2023/0037/SS  \n",
    "        6)NAMUDDU MARIAM .REG NO:2023/DCSE/00105/SS \n",
    " \n",
    " \n",
    " \n",
    " \n",
    " \n",
    " \n",
    " \n",
    " \n",
    " \n",
    "\n",
    "                                        "
   ]
  },
  {
   "cell_type": "markdown",
   "metadata": {},
   "source": [
    "# Number one"
   ]
  },
  {
   "cell_type": "code",
   "execution_count": 61,
   "metadata": {},
   "outputs": [],
   "source": [
    "import numpy as np"
   ]
  },
  {
   "cell_type": "code",
   "execution_count": 62,
   "metadata": {},
   "outputs": [
    {
     "name": "stdout",
     "output_type": "stream",
     "text": [
      "out_put_one: -5.000000000000004\n",
      "out_put_two: 20.000000000000004\n"
     ]
    }
   ],
   "source": [
    "#A+B=15\n",
    "#3A+5B=85\n",
    "\n",
    "# Coefficients matrix\n",
    "coefficients = np.array([[1, 1], [3, 5]])\n",
    "\n",
    "# Constants vector\n",
    "constants = np.array([15, 85])\n",
    "\n",
    "# Solve the system of equations\n",
    "solution = np.linalg.solve(coefficients, constants)\n",
    "\n",
    "# The solution will be\n",
    "out_put_one,out_put_two = solution\n",
    "\n",
    "print(\"out_put_one:\",out_put_one )\n",
    "print(\"out_put_two:\",out_put_two)"
   ]
  },
  {
   "cell_type": "markdown",
   "metadata": {},
   "source": [
    "# Number two"
   ]
  },
  {
   "cell_type": "code",
   "execution_count": 64,
   "metadata": {},
   "outputs": [],
   "source": [
    "import numpy as np"
   ]
  },
  {
   "cell_type": "code",
   "execution_count": 65,
   "metadata": {},
   "outputs": [
    {
     "name": "stdout",
     "output_type": "stream",
     "text": [
      "Solution:\n",
      "x = -0.5822637106184365\n",
      "y = 3.2287047841306884\n",
      "z = -1.985997666277713\n"
     ]
    }
   ],
   "source": [
    "#8x+3y−2z=9\n",
    "#−4x+7y+5z=15\n",
    "#3x+4y−12z=35\n",
    "\n",
    "# Coefficients matrix\n",
    "coefficients = np.array([[8, 3, -2], [-4, 7, 5], [3, 4, -12]])\n",
    "\n",
    "# Constants vector\n",
    "constants = np.array([9, 15, 35])\n",
    "\n",
    "# Solve the system of equations\n",
    "solution = np.linalg.solve(coefficients, constants)\n",
    "\n",
    "# The solution will give the values of x, y, and z\n",
    "x, y, z = solution\n",
    "\n",
    "print(\"Solution:\")\n",
    "print(\"x =\", x)\n",
    "print(\"y =\", y)\n",
    "print(\"z =\", z)"
   ]
  },
  {
   "cell_type": "markdown",
   "metadata": {},
   "source": [
    "# Number three"
   ]
  },
  {
   "cell_type": "code",
   "execution_count": 66,
   "metadata": {},
   "outputs": [],
   "source": [
    "import numpy as np"
   ]
  },
  {
   "cell_type": "code",
   "execution_count": 67,
   "metadata": {},
   "outputs": [
    {
     "name": "stdout",
     "output_type": "stream",
     "text": [
      "[1. 2.]\n"
     ]
    }
   ],
   "source": [
    "#3x + 2y = 7\n",
    "#x - y = -1\n",
    "\n",
    "#We can represent this system of equations in the form of Ax = b by creating a matrix A of the coefficients and a vector b of the constants:\n",
    "\n",
    "# coefficients matrix\n",
    "A = np.array([[3, 2], [1, -1]])\n",
    "\n",
    "# constants Vector\n",
    "b = np.array([7, -1])\n",
    "\n",
    "# Solve the system of equations\n",
    "x = np.linalg.solve(A, b)\n",
    "\n",
    "# Print the solution\n",
    "print(x)"
   ]
  },
  {
   "cell_type": "markdown",
   "metadata": {},
   "source": [
    "# Number four"
   ]
  },
  {
   "cell_type": "code",
   "execution_count": 72,
   "metadata": {},
   "outputs": [],
   "source": [
    "import numpy as np"
   ]
  },
  {
   "cell_type": "code",
   "execution_count": 73,
   "metadata": {},
   "outputs": [
    {
     "name": "stdout",
     "output_type": "stream",
     "text": [
      "Solution:\n",
      "a = 3.0000000000000155\n",
      "b = 7.999999999999992\n",
      "c = 4.99999999999999\n"
     ]
    }
   ],
   "source": [
    "# We can also solve the system of linear equations using NumPy's linalg.inv() function, \n",
    "# We first need to find the inverse of the coefficients matrix and then multiply it by the constants vector. Here's how to do it:\n",
    " \n",
    "#Given system of equations:\n",
    "#4a + 2b + 5c = 53\n",
    "#5a + 3b + 7c = 74\n",
    "#9a + 2b + 6c = 73\n",
    "\n",
    "#First, let's represent the system of equations in matrix form Ax = B, where A is the coefficients matrix,\n",
    "# x is the vector of variables [a, b, c], and B is the constants vector.\n",
    "\n",
    "#Coefficients matrix\n",
    "A = np.array([[4, 2, 5], [5, 3, 7], [9, 2, 6]])\n",
    "\n",
    "# Constants vector\n",
    "B = np.array([53, 74, 73])\n",
    "\n",
    "# Calculate the inverse of the coefficients matrix\n",
    "A_inv = np.linalg.inv(A)\n",
    "\n",
    "# Solve for the variables a, b, and c by multiplying the inverse by the constants vector\n",
    "a, b, c = np.dot(A_inv, B)\n",
    "\n",
    "print(\"Solution:\")\n",
    "print(\"a =\", a)\n",
    "print(\"b =\", b)\n",
    "print(\"c =\", c)"
   ]
  },
  {
   "cell_type": "markdown",
   "metadata": {},
   "source": [
    "# Number Five"
   ]
  },
  {
   "cell_type": "code",
   "execution_count": 88,
   "metadata": {},
   "outputs": [],
   "source": [
    "import numpy as np"
   ]
  },
  {
   "cell_type": "code",
   "execution_count": 89,
   "metadata": {},
   "outputs": [
    {
     "name": "stdout",
     "output_type": "stream",
     "text": [
      "Solution:\n",
      "a = 5.999999999999999\n",
      "b = 5.000000000000001\n"
     ]
    }
   ],
   "source": [
    "#Given system of equations:\n",
    "#12a + 6b = 102\n",
    "#10a + 10b = 110\n",
    "# let's represent the system of equations in matrix form Ax = B, where A is the coefficients matrix,\n",
    "# x is the vector of variables [a, b], and B is the constants vector.\n",
    "\n",
    "# Coefficients matrix\n",
    "A = np.array([[12, 6], [10, 10]])\n",
    "\n",
    "# Constants vector\n",
    "B = np.array([102, 110])\n",
    "\n",
    "# Calculate the inverse of the coefficients matrix\n",
    "A_inv = np.linalg.inv(A)\n",
    "\n",
    "# Solve for the variables a and b by multiplying the inverse by the constants vector\n",
    "a, b = np.dot(A_inv, B)\n",
    "\n",
    "print(\"Solution:\")\n",
    "print(\"a =\", a)\n",
    "print(\"b =\", b)"
   ]
  }
 ],
 "metadata": {
  "kernelspec": {
   "display_name": "Python 3",
   "language": "python",
   "name": "python3"
  },
  "language_info": {
   "codemirror_mode": {
    "name": "ipython",
    "version": 3
   },
   "file_extension": ".py",
   "mimetype": "text/x-python",
   "name": "python",
   "nbconvert_exporter": "python",
   "pygments_lexer": "ipython3",
   "version": "3.11.4"
  }
 },
 "nbformat": 4,
 "nbformat_minor": 2
}
