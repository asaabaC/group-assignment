{
 "cells": [
  {
   "cell_type": "markdown",
   "metadata": {},
   "source": [
    "DOT PRODUCT WITH NUMPY\n",
    "\n",
    "The NumPy dot product in Python is a fundamental mathematical operation used for multiplying arrays or matrices efficiently. It calculates the sum of the element-wise products of two arrays. \n"
   ]
  },
  {
   "cell_type": "markdown",
   "metadata": {},
   "source": [
    "Mathematically; Dot product is also scalar product and it’s a measure of how closely two vectors align in terms of direction.\n",
    "Dot product formula; This can be denoted either algebraically or geometrically\t\n",
    "Geometrically; The geometric meaning of dot product is that the dot product between two given vectors a and b is denoted by: a.b= |a||b|cosθ\n",
    "Algebraically; The dot product algebra says that the dot product of the given two products\n",
    " a = (a1, a2, a3) and b= (b1, b2, b3) is given by: a.b= (a1b1 + a2b2 + a3b3)\n"
   ]
  },
  {
   "cell_type": "markdown",
   "metadata": {},
   "source": [
    "PROPERTIES OF THE DOT PRODUCT"
   ]
  },
  {
   "cell_type": "markdown",
   "metadata": {},
   "source": [
    "Commutative Property; For any two vectors x and y, x.y= y.x\n",
    "Scalar Multiplication Property; For any two vectors a and b and any real number z, (za).b = a.(zy) = z(x.y) or  ab(x.y)=(ax.by)\n",
    "\n",
    "Distributive Property; For any 3 vectors a, b and c, a.(b+c) = a.b + a.c\n",
    "\n",
    "Orthogonal Property; Two vectors are orthogonal only when a.b = 0"
   ]
  },
  {
   "cell_type": "code",
   "execution_count": 3,
   "metadata": {},
   "outputs": [
    {
     "ename": "ModuleNotFoundError",
     "evalue": "No module named 'numpy'",
     "output_type": "error",
     "traceback": [
      "\u001b[1;31m---------------------------------------------------------------------------\u001b[0m",
      "\u001b[1;31mModuleNotFoundError\u001b[0m                       Traceback (most recent call last)",
      "\u001b[1;32md:\\COMPUTER SCIENCE\\YEAR ONE\\SEM 1\\MATHEMATICAL COMPUTING\\group assignments\\dot_product.ipynb Cell 5\u001b[0m line \u001b[0;36m4\n\u001b[0;32m      <a href='vscode-notebook-cell:/d%3A/COMPUTER%20SCIENCE/YEAR%20ONE/SEM%201/MATHEMATICAL%20COMPUTING/group%20assignments/dot_product.ipynb#W4sZmlsZQ%3D%3D?line=0'>1</a>\u001b[0m \u001b[39m# If both a and b are 1-D arrays, it is inner product of vectors \u001b[39;00m\n\u001b[0;32m      <a href='vscode-notebook-cell:/d%3A/COMPUTER%20SCIENCE/YEAR%20ONE/SEM%201/MATHEMATICAL%20COMPUTING/group%20assignments/dot_product.ipynb#W4sZmlsZQ%3D%3D?line=1'>2</a>\u001b[0m \u001b[39m# (without complex conjugation).\u001b[39;00m\n\u001b[0;32m      <a href='vscode-notebook-cell:/d%3A/COMPUTER%20SCIENCE/YEAR%20ONE/SEM%201/MATHEMATICAL%20COMPUTING/group%20assignments/dot_product.ipynb#W4sZmlsZQ%3D%3D?line=2'>3</a>\u001b[0m \u001b[39m# Neither argument is complex-conjugated:\u001b[39;00m\n\u001b[1;32m----> <a href='vscode-notebook-cell:/d%3A/COMPUTER%20SCIENCE/YEAR%20ONE/SEM%201/MATHEMATICAL%20COMPUTING/group%20assignments/dot_product.ipynb#W4sZmlsZQ%3D%3D?line=3'>4</a>\u001b[0m \u001b[39mimport\u001b[39;00m \u001b[39mnumpy\u001b[39;00m \u001b[39mas\u001b[39;00m \u001b[39mnp\u001b[39;00m \n\u001b[0;32m      <a href='vscode-notebook-cell:/d%3A/COMPUTER%20SCIENCE/YEAR%20ONE/SEM%201/MATHEMATICAL%20COMPUTING/group%20assignments/dot_product.ipynb#W4sZmlsZQ%3D%3D?line=4'>5</a>\u001b[0m \u001b[39m#  returns the dot product of vectors a and b. It can handle 2D arrays but considers them as \u001b[39;00m\n\u001b[0;32m      <a href='vscode-notebook-cell:/d%3A/COMPUTER%20SCIENCE/YEAR%20ONE/SEM%201/MATHEMATICAL%20COMPUTING/group%20assignments/dot_product.ipynb#W4sZmlsZQ%3D%3D?line=5'>6</a>\u001b[0m \u001b[39m# matrix and will perform matrix multiplication\u001b[39;00m\n\u001b[0;32m      <a href='vscode-notebook-cell:/d%3A/COMPUTER%20SCIENCE/YEAR%20ONE/SEM%201/MATHEMATICAL%20COMPUTING/group%20assignments/dot_product.ipynb#W4sZmlsZQ%3D%3D?line=6'>7</a>\u001b[0m \n\u001b[0;32m      <a href='vscode-notebook-cell:/d%3A/COMPUTER%20SCIENCE/YEAR%20ONE/SEM%201/MATHEMATICAL%20COMPUTING/group%20assignments/dot_product.ipynb#W4sZmlsZQ%3D%3D?line=7'>8</a>\u001b[0m \u001b[39m# dot product of two scalars\u001b[39;00m\n\u001b[0;32m      <a href='vscode-notebook-cell:/d%3A/COMPUTER%20SCIENCE/YEAR%20ONE/SEM%201/MATHEMATICAL%20COMPUTING/group%20assignments/dot_product.ipynb#W4sZmlsZQ%3D%3D?line=8'>9</a>\u001b[0m x\u001b[39m=\u001b[39m\u001b[39m3\u001b[39m\n",
      "\u001b[1;31mModuleNotFoundError\u001b[0m: No module named 'numpy'"
     ]
    }
   ],
   "source": [
    "# If both a and b are 1-D arrays, it is inner product of vectors \n",
    "# (without complex conjugation).\n",
    "# Neither argument is complex-conjugated:\n",
    "import numpy as np \n",
    "#  returns the dot product of vectors a and b. It can handle 2D arrays but considers them as \n",
    "# matrix and will perform matrix multiplication\n",
    "\n",
    "# dot product of two scalars\n",
    "x=3\n",
    "y=4\n",
    "print(np.dot(x, y))\n",
    "\n",
    "a=np.dot(6,12)\n",
    "print(a)\n",
    "# Considering two complex numbers\n",
    "a = [2+6j]\n",
    "b = [4+3j]\n",
    "print(np.dot(a, b ))\n",
    "#normally; 2(4+3j) + 6j(4+3j)= 8+6j+24j-18= -10+30j\n",
    "# note; As we write complex numbers we begin with the real part followed by the imaginary part\n",
    "# -10 is the real part and 30j is the imaginary part\n",
    "# j*j=-1\n",
    "\n",
    "print(np.dot([2j, 3j], [5j, 8j]))\n",
    "print(np.dot([2+3j, 5+6j], [9+7j, 4+12j]))"
   ]
  },
  {
   "cell_type": "code",
   "execution_count": 4,
   "metadata": {},
   "outputs": [
    {
     "ename": "NameError",
     "evalue": "name 'np' is not defined",
     "output_type": "error",
     "traceback": [
      "\u001b[1;31m---------------------------------------------------------------------------\u001b[0m",
      "\u001b[1;31mNameError\u001b[0m                                 Traceback (most recent call last)",
      "\u001b[1;32md:\\COMPUTER SCIENCE\\YEAR ONE\\SEM 1\\MATHEMATICAL COMPUTING\\group assignments\\dot_product.ipynb Cell 6\u001b[0m line \u001b[0;36m2\n\u001b[0;32m      <a href='vscode-notebook-cell:/d%3A/COMPUTER%20SCIENCE/YEAR%20ONE/SEM%201/MATHEMATICAL%20COMPUTING/group%20assignments/dot_product.ipynb#W5sZmlsZQ%3D%3D?line=0'>1</a>\u001b[0m \u001b[39m# getting the dot product of 1-D arrays\u001b[39;00m\n\u001b[1;32m----> <a href='vscode-notebook-cell:/d%3A/COMPUTER%20SCIENCE/YEAR%20ONE/SEM%201/MATHEMATICAL%20COMPUTING/group%20assignments/dot_product.ipynb#W5sZmlsZQ%3D%3D?line=1'>2</a>\u001b[0m x \u001b[39m=\u001b[39m np\u001b[39m.\u001b[39marray([\u001b[39m5\u001b[39m, \u001b[39m1\u001b[39m, \u001b[39m3\u001b[39m, \u001b[39m2\u001b[39m])\n\u001b[0;32m      <a href='vscode-notebook-cell:/d%3A/COMPUTER%20SCIENCE/YEAR%20ONE/SEM%201/MATHEMATICAL%20COMPUTING/group%20assignments/dot_product.ipynb#W5sZmlsZQ%3D%3D?line=2'>3</a>\u001b[0m y \u001b[39m=\u001b[39m np\u001b[39m.\u001b[39marray([\u001b[39m6\u001b[39m, \u001b[39m4\u001b[39m, \u001b[39m9\u001b[39m, \u001b[39m4\u001b[39m])\n\u001b[0;32m      <a href='vscode-notebook-cell:/d%3A/COMPUTER%20SCIENCE/YEAR%20ONE/SEM%201/MATHEMATICAL%20COMPUTING/group%20assignments/dot_product.ipynb#W5sZmlsZQ%3D%3D?line=3'>4</a>\u001b[0m \u001b[39mprint\u001b[39m(np\u001b[39m.\u001b[39mdot(x,y))\n",
      "\u001b[1;31mNameError\u001b[0m: name 'np' is not defined"
     ]
    }
   ],
   "source": [
    "# getting the dot product of 1-D arrays\n",
    "x = np.array([5, 1, 3, 2])\n",
    "y = np.array([6, 4, 9, 4])\n",
    "print(np.dot(x,y))\n",
    "# normally it would be 5*6+1*4+3*9+2*4=69\n",
    "\n",
    "# example 2\n",
    "a= [2,4,6]\n",
    "b= [5,7,9]\n",
    "print(np.dot(a,b))\n",
    "\n",
    "a = 3+1j \n",
    "b = 7+6j\n",
    "print(np.dot(a,b))"
   ]
  },
  {
   "cell_type": "code",
   "execution_count": 5,
   "metadata": {},
   "outputs": [
    {
     "ename": "NameError",
     "evalue": "name 'np' is not defined",
     "output_type": "error",
     "traceback": [
      "\u001b[1;31m---------------------------------------------------------------------------\u001b[0m",
      "\u001b[1;31mNameError\u001b[0m                                 Traceback (most recent call last)",
      "\u001b[1;32md:\\COMPUTER SCIENCE\\YEAR ONE\\SEM 1\\MATHEMATICAL COMPUTING\\group assignments\\dot_product.ipynb Cell 7\u001b[0m line \u001b[0;36m1\n\u001b[1;32m----> <a href='vscode-notebook-cell:/d%3A/COMPUTER%20SCIENCE/YEAR%20ONE/SEM%201/MATHEMATICAL%20COMPUTING/group%20assignments/dot_product.ipynb#W6sZmlsZQ%3D%3D?line=0'>1</a>\u001b[0m arr\u001b[39m=\u001b[39mnp\u001b[39m.\u001b[39marray([\u001b[39m3\u001b[39m,\u001b[39m1\u001b[39m,\u001b[39m9\u001b[39m,\u001b[39m7\u001b[39m])\n\u001b[0;32m      <a href='vscode-notebook-cell:/d%3A/COMPUTER%20SCIENCE/YEAR%20ONE/SEM%201/MATHEMATICAL%20COMPUTING/group%20assignments/dot_product.ipynb#W6sZmlsZQ%3D%3D?line=1'>2</a>\u001b[0m arr1\u001b[39m=\u001b[39mnp\u001b[39m.\u001b[39marray([\u001b[39m2\u001b[39m,\u001b[39m6\u001b[39m,\u001b[39m4\u001b[39m,\u001b[39m8\u001b[39m])\n\u001b[0;32m      <a href='vscode-notebook-cell:/d%3A/COMPUTER%20SCIENCE/YEAR%20ONE/SEM%201/MATHEMATICAL%20COMPUTING/group%20assignments/dot_product.ipynb#W6sZmlsZQ%3D%3D?line=2'>3</a>\u001b[0m \u001b[39mprint\u001b[39m(np\u001b[39m.\u001b[39mdot(arr,arr1))\n",
      "\u001b[1;31mNameError\u001b[0m: name 'np' is not defined"
     ]
    }
   ],
   "source": [
    "arr=np.array([3,1,9,7])\n",
    "arr1=np.array([2,6,4,8])\n",
    "print(np.dot(arr,arr1))"
   ]
  },
  {
   "cell_type": "code",
   "execution_count": 30,
   "metadata": {},
   "outputs": [],
   "source": [
    "# If both a and b are 2-D arrays, it is matrix multiplication, but \n",
    "# using matmul or a @ b is preferred.\n",
    "# For 2-D it's a matrix product\n",
    "import numpy as np\n",
    "a = np.array([[1, 5], [0, 1]])\n",
    "b = np.array([[4, 3], [-2, -1]])\n",
    "np.dot(a, b)\n",
    "\n",
    "a=np.array([[3,1],[2,4]])\n",
    "b=np.array([[5,2],[1,6]])\n",
    "c=np.dot(a,b)"
   ]
  },
  {
   "cell_type": "code",
   "execution_count": 24,
   "metadata": {},
   "outputs": [
    {
     "data": {
      "text/plain": [
       "array([[-6, -2],\n",
       "       [-2, -1],\n",
       "       [ 6,  7]])"
      ]
     },
     "execution_count": 24,
     "metadata": {},
     "output_type": "execute_result"
    }
   ],
   "source": [
    "# 2-D matrix\n",
    "a = np.array([[1, 5], [0, 1],[4,5]])\n",
    "b = np.array([[4, 3], [-2, -1],])\n",
    "np.dot(a,b)"
   ]
  },
  {
   "cell_type": "code",
   "execution_count": 32,
   "metadata": {},
   "outputs": [
    {
     "name": "stdout",
     "output_type": "stream",
     "text": [
      "[[ 8 17]\n",
      " [18 47]]\n"
     ]
    }
   ],
   "source": [
    "# 2-D matrix\n",
    "x=[[1,2],[4,1]]\n",
    "y=[[4,11],[2,3]]\n",
    "z=np.dot(x,y)\n",
    "print(z)"
   ]
  },
  {
   "cell_type": "code",
   "execution_count": 34,
   "metadata": {},
   "outputs": [
    {
     "name": "stdout",
     "output_type": "stream",
     "text": [
      "[[4 1]\n",
      " [2 2]]\n"
     ]
    }
   ],
   "source": [
    "a=[[1,0],[0,1]]\n",
    "b=[[4,1],[2,2]]\n",
    "c=np.dot(a,b)\n",
    "print(c)"
   ]
  },
  {
   "cell_type": "markdown",
   "metadata": {},
   "source": [
    "REFERENCES"
   ]
  },
  {
   "cell_type": "markdown",
   "metadata": {},
   "source": [
    "https://numpy.org/doc/stable/reference/generated/np.dot.html\n",
    "\n",
    "G. H. Golub and C. F. Van Loan, Matrix Computations, 3rd ed., Baltimore, MD, Johns Hopkins University Press, 1996, pg. 8.\n",
    "\n",
    "Alon.B.Muhame (How to use numpy library)\n",
    "\n",
    "linear-guest.pdf"
   ]
  }
 ],
 "metadata": {
  "kernelspec": {
   "display_name": "base",
   "language": "python",
   "name": "python3"
  },
  "language_info": {
   "codemirror_mode": {
    "name": "ipython",
    "version": 3
   },
   "file_extension": ".py",
   "mimetype": "text/x-python",
   "name": "python",
   "nbconvert_exporter": "python",
   "pygments_lexer": "ipython3",
   "version": "3.12.0"
  }
 },
 "nbformat": 4,
 "nbformat_minor": 2
}
